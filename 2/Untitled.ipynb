{
 "cells": [
  {
   "cell_type": "code",
   "execution_count": 1,
   "id": "b2c81513-2192-4272-914a-f37086fa7222",
   "metadata": {},
   "outputs": [
    {
     "name": "stdout",
     "output_type": "stream",
     "text": [
      "Input vector:[0 1 1], Weight vector:[-1  1  1]\n"
     ]
    }
   ],
   "source": [
    "import numpy as np\n",
    "np.random.seed(seed=0)\n",
    "I = np.random.choice([0,1], 3)# generate random vector I, sampling from {0,1}\n",
    "W = np.random.choice([-1,1], 3) # generate random vector W, sampling from {-1,1} \n",
    "print(f'Input vector:{I}, Weight vector:{W}')"
   ]
  },
  {
   "cell_type": "code",
   "execution_count": 2,
   "id": "a06a4597-574a-447e-9767-9db522d7a6c4",
   "metadata": {},
   "outputs": [
    {
     "name": "stdout",
     "output_type": "stream",
     "text": [
      "Dot product: 2\n"
     ]
    }
   ],
   "source": [
    "dot = I @ W\n",
    "print(f'Dot product: {dot}')"
   ]
  },
  {
   "cell_type": "code",
   "execution_count": 3,
   "id": "674d8339-6979-491a-850d-dbbb3a24113f",
   "metadata": {},
   "outputs": [],
   "source": [
    "def linear_threshold_gate(dot: int, T: float) -> int:\n",
    "    '''Returns the binary threshold output'''\n",
    "    if dot >= T:\n",
    "        return 1\n",
    "    else:\n",
    "        return 0"
   ]
  },
  {
   "cell_type": "code",
   "execution_count": 4,
   "id": "f3294847-eaa7-41c3-be54-aa09eb8ca47d",
   "metadata": {},
   "outputs": [
    {
     "name": "stdout",
     "output_type": "stream",
     "text": [
      "Activation: 1\n"
     ]
    }
   ],
   "source": [
    "T = 1\n",
    "activation = linear_threshold_gate(dot, T)\n",
    "print(f'Activation: {activation}')"
   ]
  },
  {
   "cell_type": "code",
   "execution_count": 5,
   "id": "bfe7b17c-5b55-489a-aeff-e34c984f40d5",
   "metadata": {},
   "outputs": [
    {
     "name": "stdout",
     "output_type": "stream",
     "text": [
      "Activation: 0\n"
     ]
    }
   ],
   "source": [
    "T = 3\n",
    "activation = linear_threshold_gate(dot, T)\n",
    "print(f'Activation: {activation}')"
   ]
  },
  {
   "cell_type": "code",
   "execution_count": 6,
   "id": "85ab8b0d-7c86-4e49-91bc-e530386fce80",
   "metadata": {},
   "outputs": [
    {
     "name": "stdout",
     "output_type": "stream",
     "text": [
      "input table:\n",
      "[[0 0]\n",
      " [0 1]\n",
      " [1 0]\n",
      " [1 1]]\n"
     ]
    }
   ],
   "source": [
    "# matrix of inputs\n",
    "input_table = np.array([\n",
    "    [0,0], # both no\n",
    "    [0,1], # one no, one yes\n",
    "    [1,0], # one yes, one no\n",
    "    [1,1]  # bot yes\n",
    "])\n",
    "\n",
    "print(f'input table:\\n{input_table}')"
   ]
  },
  {
   "cell_type": "code",
   "execution_count": 7,
   "id": "ffdeec40-a00a-49b9-b7df-bb60557a9d8b",
   "metadata": {},
   "outputs": [
    {
     "name": "stdout",
     "output_type": "stream",
     "text": [
      "weights: [1 1]\n"
     ]
    }
   ],
   "source": [
    "# array of weights\n",
    "weights = np.array([1,1])\n",
    "print(f'weights: {weights}')"
   ]
  },
  {
   "cell_type": "code",
   "execution_count": 8,
   "id": "ef727fe6-3709-49c4-8639-feb8e6a76078",
   "metadata": {},
   "outputs": [
    {
     "name": "stdout",
     "output_type": "stream",
     "text": [
      "Dot products: [0 1 1 2]\n"
     ]
    }
   ],
   "source": [
    "# dot product matrix of inputs and weights\n",
    "dot_products = input_table @ weights\n",
    "print(f'Dot products: {dot_products}')"
   ]
  },
  {
   "cell_type": "code",
   "execution_count": 9,
   "id": "bc581c55-4fa3-41e9-86a4-e7c4dd48eeb9",
   "metadata": {},
   "outputs": [
    {
     "name": "stdout",
     "output_type": "stream",
     "text": [
      "Activation: 0\n",
      "Activation: 0\n",
      "Activation: 0\n",
      "Activation: 1\n"
     ]
    }
   ],
   "source": [
    "T = 2\n",
    "for i in range(0,4):\n",
    "    activation = linear_threshold_gate(dot_products[i], T)\n",
    "    print(f'Activation: {activation}')"
   ]
  },
  {
   "cell_type": "code",
   "execution_count": 10,
   "id": "4b74faaf-6a42-48c8-8d36-5396aefa746a",
   "metadata": {},
   "outputs": [
    {
     "name": "stdout",
     "output_type": "stream",
     "text": [
      "Activation: 0\n",
      "Activation: 1\n",
      "Activation: 1\n",
      "Activation: 1\n"
     ]
    }
   ],
   "source": [
    "T = 1\n",
    "for i in range(0,4):\n",
    "    activation = linear_threshold_gate(dot_products[i], T)\n",
    "    print(f'Activation: {activation}')"
   ]
  },
  {
   "cell_type": "code",
   "execution_count": 11,
   "id": "485f16e0-9b8c-4771-9f42-a9aa4c77a52c",
   "metadata": {},
   "outputs": [
    {
     "name": "stdout",
     "output_type": "stream",
     "text": [
      "weights: [-1 -1]\n"
     ]
    }
   ],
   "source": [
    "# array of weights\n",
    "weights = np.array([-1,-1])\n",
    "print(f'weights: {weights}')"
   ]
  },
  {
   "cell_type": "code",
   "execution_count": 12,
   "id": "bee9f497-45ef-4bf5-a8cd-412bb214da8d",
   "metadata": {},
   "outputs": [
    {
     "name": "stdout",
     "output_type": "stream",
     "text": [
      "Dot products: [ 0 -1 -1 -2]\n"
     ]
    }
   ],
   "source": [
    "# dot product matrix of inputs and weights\n",
    "dot_products = input_table @ weights\n",
    "print(f'Dot products: {dot_products}')"
   ]
  },
  {
   "cell_type": "code",
   "execution_count": 13,
   "id": "0c74835a-94db-4fe3-be70-dc584b324267",
   "metadata": {},
   "outputs": [
    {
     "name": "stdout",
     "output_type": "stream",
     "text": [
      "Activation: 1\n",
      "Activation: 0\n",
      "Activation: 0\n",
      "Activation: 0\n"
     ]
    }
   ],
   "source": [
    "T = 0\n",
    "for i in range(0,4):\n",
    "    activation = linear_threshold_gate(dot_products[i], T)\n",
    "    print(f'Activation: {activation}')"
   ]
  },
  {
   "cell_type": "markdown",
   "id": "f0405992-204b-4007-a4fa-10d6b27a2d64",
   "metadata": {},
   "source": [
    "# NOT function"
   ]
  },
  {
   "cell_type": "code",
   "execution_count": 23,
   "id": "3ccb79c1-4768-4bad-9ea6-4eff471c7b1c",
   "metadata": {},
   "outputs": [
    {
     "name": "stdout",
     "output_type": "stream",
     "text": [
      "weights: [[0]\n",
      " [1]]\n"
     ]
    }
   ],
   "source": [
    "weights = np.array([[0], [1]])\n",
    "print(f'weights: {weights}')"
   ]
  },
  {
   "cell_type": "code",
   "execution_count": 25,
   "id": "0c95e140-0223-4a19-a2b9-d614c57949d3",
   "metadata": {},
   "outputs": [
    {
     "name": "stdout",
     "output_type": "stream",
     "text": [
      "Dot products: [[0]\n",
      " [1]\n",
      " [0]\n",
      " [1]]\n"
     ]
    }
   ],
   "source": [
    "dot_products = input_table @ weights\n",
    "print(f'Dot products: {dot_products}')"
   ]
  },
  {
   "cell_type": "code",
   "execution_count": 28,
   "id": "023f902b-22df-409b-b040-04a986ecc398",
   "metadata": {},
   "outputs": [
    {
     "name": "stdout",
     "output_type": "stream",
     "text": [
      "Activation: 1\n",
      "Activation: 1\n",
      "Activation: 1\n",
      "Activation: 1\n"
     ]
    }
   ],
   "source": [
    "T = -1\n",
    "for i in range(0,4):\n",
    "    activation = linear_threshold_gate(dot_products[i], T)\n",
    "    print(f'Activation: {activation}')"
   ]
  },
  {
   "cell_type": "code",
   "execution_count": null,
   "id": "a6c01f2c-f797-40e9-a84f-437487b0de48",
   "metadata": {},
   "outputs": [],
   "source": []
  }
 ],
 "metadata": {
  "kernelspec": {
   "display_name": "Python 3 (ipykernel)",
   "language": "python",
   "name": "python3"
  },
  "language_info": {
   "codemirror_mode": {
    "name": "ipython",
    "version": 3
   },
   "file_extension": ".py",
   "mimetype": "text/x-python",
   "name": "python",
   "nbconvert_exporter": "python",
   "pygments_lexer": "ipython3",
   "version": "3.12.8"
  }
 },
 "nbformat": 4,
 "nbformat_minor": 5
}
