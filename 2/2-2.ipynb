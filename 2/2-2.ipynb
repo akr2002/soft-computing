{
 "cells": [
  {
   "cell_type": "code",
   "execution_count": 1,
   "id": "d5fad600-5f92-4dd8-8343-dfa841a193de",
   "metadata": {},
   "outputs": [],
   "source": [
    "import numpy as np\n",
    "import pandas as pd\n",
    "\n",
    "class MCPNeuron(object):\n",
    "    \"\"\"McCulloch-Pitts Neuron model\n",
    "    \n",
    "    Creates a logic gate using a set of weights and \n",
    "    an activation threshold. \n",
    "    \n",
    "    Parameters\n",
    "    ----------\n",
    "        w : array-like, shape = [1, m_signals]\n",
    "            Input weights, either -1, 0 or 1.\n",
    "        t : int \n",
    "            Activation threshold.\n",
    "    \n",
    "    \"\"\"\n",
    "    \n",
    "    def __init__(self, w = [1,1], t = 1):\n",
    "        self.w = np.array(w)\n",
    "        self.t = t\n",
    "        \n",
    "    \n",
    "    def decide(self, message):\n",
    "        \"\"\" Heaviside activation function.\n",
    "        \n",
    "        Returns 1 if the weighted sum of the input signals,\n",
    "        passed as a message, exceeds the threshold value. \n",
    "        \n",
    "        Returns 0, otherwise.\n",
    "        \n",
    "        Parameters\n",
    "        ----------\n",
    "            message : array-like, shape = [1, m_signals] \n",
    "                Array of input signals, either 0 or 1.\n",
    "        \n",
    "        Returns\n",
    "        -------\n",
    "            y : int\n",
    "                Output signal, either 0 or 1.\n",
    "        \n",
    "        \"\"\"\n",
    "        \n",
    "        x = message # consistency with function notation above\n",
    "        sum_ = np.inner(self.w,x)\n",
    "        \n",
    "        if sum_ >= self.t:\n",
    "            return 1\n",
    "        else:\n",
    "            return 0\n",
    "        \n",
    "        \n",
    "    def TruthTable(self, in_signals, in_labels, out_label):\n",
    "        \"\"\"\n",
    "        Generates a truth table (dataframe) of n messages\n",
    "        for a logic gate object constructed using the MCPNeuron \n",
    "        class, where a message is a 1-D array of m signals.\n",
    "        \n",
    "        Parameters\n",
    "        ----------\n",
    "            in_signals : array-like, shape = [n_messages, m_signals]\n",
    "                Set of input signals, each 0 or 1.\n",
    "            in_labels : list, length = m_signals\n",
    "                Column labels, as strings, for the input signals\n",
    "            out_label : str\n",
    "                Column label for the output signal\n",
    "            \n",
    "        Returns\n",
    "        -------\n",
    "            table: dataframe, shape = [n_messages, m_signals + 1]\n",
    "                Truth table showing relationship between in and out\n",
    "                signals.\n",
    "        \n",
    "        \"\"\"\n",
    "        \n",
    "        table = pd.DataFrame(in_signals, columns = in_labels)\n",
    "        \n",
    "        out_signals = []\n",
    "        for row in in_signals:\n",
    "            signal = self.decide(message = row)\n",
    "            out_signals.append(signal)\n",
    "            \n",
    "        table[out_label] = pd.Series(out_signals)\n",
    "        return table"
   ]
  },
  {
   "cell_type": "markdown",
   "id": "b4920239-2362-4ac0-9944-e12e2723e21f",
   "metadata": {},
   "source": [
    "# OR function"
   ]
  },
  {
   "cell_type": "code",
   "execution_count": 2,
   "id": "075edd3e-bc15-4082-bf14-86647da11288",
   "metadata": {},
   "outputs": [
    {
     "name": "stdout",
     "output_type": "stream",
     "text": [
      "   x1  x2  y\n",
      "0   0   0  0\n",
      "1   0   1  1\n",
      "2   1   0  1\n",
      "3   1   1  1\n"
     ]
    }
   ],
   "source": [
    "in_signals = np.array([[0,0], [0,1], [1,0], [1,1]])\n",
    "in_labels = ['x1', 'x2']\n",
    "out_label = 'y'\n",
    "\n",
    "# instantiate OR gate as an MCP Neuron class\n",
    "OR = MCPNeuron(w = [1,1], t = 1)\n",
    "\n",
    "OR_table = OR.TruthTable(in_signals, in_labels = in_labels, out_label = out_label)\n",
    "\n",
    "print(OR_table)"
   ]
  },
  {
   "cell_type": "markdown",
   "id": "e3976de9-5cdd-432b-957b-19f3b4e4125b",
   "metadata": {},
   "source": [
    "# AND function"
   ]
  },
  {
   "cell_type": "code",
   "execution_count": 3,
   "id": "88d15ca9-742b-46de-a1b7-ae9c25051356",
   "metadata": {},
   "outputs": [
    {
     "name": "stdout",
     "output_type": "stream",
     "text": [
      "   x1  x2  y\n",
      "0   0   0  0\n",
      "1   0   1  0\n",
      "2   1   0  0\n",
      "3   1   1  1\n"
     ]
    }
   ],
   "source": [
    "in_signals = np.array([[0,0], [0,1], [1,0], [1,1]])\n",
    "\n",
    "# instantiate AND gate as an MCP Neuron class\n",
    "AND = MCPNeuron(w = [1,1], t = 2)\n",
    "\n",
    "AND_table = AND.TruthTable(in_signals, in_labels = in_labels, out_label = out_label)\n",
    "\n",
    "print(AND_table)"
   ]
  },
  {
   "cell_type": "markdown",
   "id": "8f60d37b-e8ac-4ef1-8fc2-3e3b20f6a4f4",
   "metadata": {},
   "source": [
    "# NOT function"
   ]
  },
  {
   "cell_type": "code",
   "execution_count": 4,
   "id": "dcab3748-9dc2-4da5-a6ba-ce48c5e8074f",
   "metadata": {},
   "outputs": [
    {
     "name": "stdout",
     "output_type": "stream",
     "text": [
      "   x1  y\n",
      "0   0  1\n",
      "1   1  0\n"
     ]
    }
   ],
   "source": [
    "NOT_signals = np.array([[0], [1]])\n",
    "\n",
    "# instantiate NOT gate as an MCP Neuron class\n",
    "NOT = MCPNeuron(w = [-1], t = 0)\n",
    "\n",
    "NOT_table = NOT.TruthTable(NOT_signals, in_labels = ['x1'], out_label = 'y')\n",
    "\n",
    "print(NOT_table)"
   ]
  },
  {
   "cell_type": "markdown",
   "id": "44f4c66e-a93a-4d37-b5f1-8135d09b1f90",
   "metadata": {},
   "source": [
    "# NAND function"
   ]
  },
  {
   "cell_type": "code",
   "execution_count": 5,
   "id": "b1730bee-21fb-4900-bc5f-b6c431e77cc0",
   "metadata": {},
   "outputs": [
    {
     "name": "stdout",
     "output_type": "stream",
     "text": [
      "   x1  x2  y\n",
      "0   0   0  1\n",
      "1   0   1  1\n",
      "2   1   0  1\n",
      "3   1   1  0\n"
     ]
    }
   ],
   "source": [
    "in_signals = np.array([[0,0], [0,1], [1,0], [1,1]])\n",
    "\n",
    "# instantiate AND gate as an MCP Neuron class\n",
    "NAND = MCPNeuron(w = [-1,-1], t = -1)\n",
    "\n",
    "NAND_table = NAND.TruthTable(in_signals, in_labels = in_labels, out_label = out_label)\n",
    "\n",
    "print(NAND_table)"
   ]
  },
  {
   "cell_type": "markdown",
   "id": "dd45d336-d78c-4100-80d4-5678caec818e",
   "metadata": {},
   "source": [
    "# NOR function"
   ]
  },
  {
   "cell_type": "code",
   "execution_count": 6,
   "id": "5e2a85a2-ecbd-4b7d-a832-3b6a93d0d56e",
   "metadata": {},
   "outputs": [
    {
     "name": "stdout",
     "output_type": "stream",
     "text": [
      "   x1  x2  y\n",
      "0   0   0  1\n",
      "1   0   1  0\n",
      "2   1   0  0\n",
      "3   1   1  0\n"
     ]
    }
   ],
   "source": [
    "in_signals = np.array([[0,0], [0,1], [1,0], [1,1]])\n",
    "\n",
    "# instantiate AND gate as an MCP Neuron class\n",
    "NOR = MCPNeuron(w = [-1,-1], t = 0)\n",
    "\n",
    "NOR_table = NOR.TruthTable(in_signals, in_labels = in_labels, out_label = out_label)\n",
    "\n",
    "print(NOR_table)"
   ]
  },
  {
   "cell_type": "code",
   "execution_count": null,
   "id": "d69251ab-9121-4360-b5d0-f491e5fd99c2",
   "metadata": {},
   "outputs": [],
   "source": []
  }
 ],
 "metadata": {
  "kernelspec": {
   "display_name": "Python 3 (ipykernel)",
   "language": "python",
   "name": "python3"
  },
  "language_info": {
   "codemirror_mode": {
    "name": "ipython",
    "version": 3
   },
   "file_extension": ".py",
   "mimetype": "text/x-python",
   "name": "python",
   "nbconvert_exporter": "python",
   "pygments_lexer": "ipython3",
   "version": "3.12.8"
  }
 },
 "nbformat": 4,
 "nbformat_minor": 5
}
